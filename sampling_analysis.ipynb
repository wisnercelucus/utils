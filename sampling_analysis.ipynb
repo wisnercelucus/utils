{
  "nbformat": 4,
  "nbformat_minor": 0,
  "metadata": {
    "colab": {
      "provenance": [],
      "authorship_tag": "ABX9TyOB3DBfbYwpiIJhD08AF/G7",
      "include_colab_link": true
    },
    "kernelspec": {
      "name": "python3",
      "display_name": "Python 3"
    },
    "language_info": {
      "name": "python"
    }
  },
  "cells": [
    {
      "cell_type": "markdown",
      "metadata": {
        "id": "view-in-github",
        "colab_type": "text"
      },
      "source": [
        "<a href=\"https://colab.research.google.com/github/wisnercelucus/utils/blob/main/sampling_analysis.ipynb\" target=\"_parent\"><img src=\"https://colab.research.google.com/assets/colab-badge.svg\" alt=\"Open In Colab\"/></a>"
      ]
    },
    {
      "cell_type": "markdown",
      "source": [
        "# An Analysis of the Significance of the Difference between Planned and Achieved Sample Sizes in PARE baseline study\n",
        "\n",
        "*By Wisner CELUCUS*\n",
        "\n",
        "In this notebook, we conduct a t-test to determine whether the sample sizes we intended to achieve in the PARE baseline study across all targeted communes differ significantly from the sample sizes achieved by the data collection firm, AGIRED.\n",
        "\n",
        "Performing a visual interpretation of the difference between the two series provides confidence that the disparity between the two sets is not statistically significant. Therefore, there is no need to apply a weighting strategy to the dataset to ensure an equal distribution of household selections across the targeted communes. As a result, we hypothesize that H0 states: the distribution of households achieved by the firm is not significantly different from the sample distribution of households we planned to attain for the study. Conversely, the H1 hypothesis posits that the distribution of households achieved by the firm differs significantly from the intended sample distribution for the study.\n",
        "\n",
        "In the following notebook cells, we utilize Python's `statsmodels` to perform a t-test for the two samples. Our aim is to demonstrate that there is insufficient evidence to reject the null hypothesis (H0).\n",
        "\n",
        "We consider H0 acceptable or confirmed if the `p-value` of the t-test is greater than 0.05, indicating that the `p-value` is not statistically significant.\n"
      ],
      "metadata": {
        "id": "k4Ai8iSy3Bnr"
      }
    },
    {
      "cell_type": "code",
      "source": [
        "# Mount the drive to access the sampling dataset.\n",
        "from google.colab import drive\n",
        "\n",
        "drive.mount('/content/drive')"
      ],
      "metadata": {
        "colab": {
          "base_uri": "https://localhost:8080/"
        },
        "id": "MDXIf_LMxG_8",
        "outputId": "d8b4c5b0-c755-47b4-9709-e3061c327dde"
      },
      "execution_count": null,
      "outputs": [
        {
          "output_type": "stream",
          "name": "stdout",
          "text": [
            "Drive already mounted at /content/drive; to attempt to forcibly remount, call drive.mount(\"/content/drive\", force_remount=True).\n"
          ]
        }
      ]
    },
    {
      "cell_type": "code",
      "execution_count": null,
      "metadata": {
        "id": "aYzM72Z4wJ71"
      },
      "outputs": [],
      "source": [
        "# import pandas to read the csv file.\n",
        "import pandas as pd"
      ]
    },
    {
      "cell_type": "code",
      "source": [
        "# import ztest from the statmodels package. That test is applied with the sample size is larger than 30.\n",
        "from statsmodels.stats.weightstats import ztest as ztest\n",
        "\n",
        "# import ttest_ind from the statmodels package. That test is applied with the sample size is less than 30.\n",
        "from statsmodels.stats.weightstats import ttest_ind as ttest"
      ],
      "metadata": {
        "id": "JmDut3sIxAFX"
      },
      "execution_count": null,
      "outputs": []
    },
    {
      "cell_type": "code",
      "source": [
        "# Load the csv file containing the data\n",
        "sample_df = pd.read_csv('/content/drive/My Drive/PARE/sampling.csv', encoding=\"latin-1\")"
      ],
      "metadata": {
        "id": "MGuDPOooyk9r"
      },
      "execution_count": null,
      "outputs": []
    },
    {
      "cell_type": "code",
      "source": [
        "\n",
        "df = sample_df.copy()"
      ],
      "metadata": {
        "id": "YeiwZbp8yvmy"
      },
      "execution_count": null,
      "outputs": []
    },
    {
      "cell_type": "code",
      "source": [
        "df.shape"
      ],
      "metadata": {
        "colab": {
          "base_uri": "https://localhost:8080/"
        },
        "id": "OYguEnJ12rSy",
        "outputId": "aac43f23-ec6c-4ec1-c192-839488661348"
      },
      "execution_count": null,
      "outputs": [
        {
          "output_type": "execute_result",
          "data": {
            "text/plain": [
              "(16, 9)"
            ]
          },
          "metadata": {},
          "execution_count": 37
        }
      ]
    },
    {
      "cell_type": "code",
      "source": [
        "# Let's take a look to make sure the data is correctly loaded.\n",
        "df.head()"
      ],
      "metadata": {
        "colab": {
          "base_uri": "https://localhost:8080/",
          "height": 319
        },
        "id": "tS4jJIEiy3xp",
        "outputId": "db536dbf-7214-4bdf-b9ce-65f50607aeda"
      },
      "execution_count": null,
      "outputs": [
        {
          "output_type": "execute_result",
          "data": {
            "text/plain": [
              "  Department Selected Communes  # of SDEs expected  \\\n",
              "0       Nord     Saint-Raphaël                   5   \n",
              "1       Nord      Acul du Nord                   6   \n",
              "2       Nord          Limonade                  11   \n",
              "3       Nord            Pignon                   3   \n",
              "4  Nord-Est      Terrier-Rouge                   8   \n",
              "\n",
              "   Total # household interviews expected  # of SDEs Achieved  \\\n",
              "0                                     85                   5   \n",
              "1                                    153                   9   \n",
              "2                                     85                   5   \n",
              "3                                    102                   6   \n",
              "4                                    136                   8   \n",
              "\n",
              "   Total # household interviews Achieved  # of SDEs diff  \\\n",
              "0                                     85               0   \n",
              "1                                    152               3   \n",
              "2                                     84              -6   \n",
              "3                                     98               3   \n",
              "4                                    136               0   \n",
              "\n",
              "   Total # household interviews diff  \\\n",
              "0                                  0   \n",
              "1                                 -1   \n",
              "2                                 -1   \n",
              "3                                 -4   \n",
              "4                                  0   \n",
              "\n",
              "  % difference between expected and achieved (# interviews)  \n",
              "0                                                 0%         \n",
              "1                                                -1%         \n",
              "2                                                -1%         \n",
              "3                                                -4%         \n",
              "4                                                 0%         "
            ],
            "text/html": [
              "\n",
              "\n",
              "  <div id=\"df-2cce6eae-f2e3-401d-9f0e-81f2c7e6c739\">\n",
              "    <div class=\"colab-df-container\">\n",
              "      <div>\n",
              "<style scoped>\n",
              "    .dataframe tbody tr th:only-of-type {\n",
              "        vertical-align: middle;\n",
              "    }\n",
              "\n",
              "    .dataframe tbody tr th {\n",
              "        vertical-align: top;\n",
              "    }\n",
              "\n",
              "    .dataframe thead th {\n",
              "        text-align: right;\n",
              "    }\n",
              "</style>\n",
              "<table border=\"1\" class=\"dataframe\">\n",
              "  <thead>\n",
              "    <tr style=\"text-align: right;\">\n",
              "      <th></th>\n",
              "      <th>Department</th>\n",
              "      <th>Selected Communes</th>\n",
              "      <th># of SDEs expected</th>\n",
              "      <th>Total # household interviews expected</th>\n",
              "      <th># of SDEs Achieved</th>\n",
              "      <th>Total # household interviews Achieved</th>\n",
              "      <th># of SDEs diff</th>\n",
              "      <th>Total # household interviews diff</th>\n",
              "      <th>% difference between expected and achieved (# interviews)</th>\n",
              "    </tr>\n",
              "  </thead>\n",
              "  <tbody>\n",
              "    <tr>\n",
              "      <th>0</th>\n",
              "      <td>Nord</td>\n",
              "      <td>Saint-Raphaël</td>\n",
              "      <td>5</td>\n",
              "      <td>85</td>\n",
              "      <td>5</td>\n",
              "      <td>85</td>\n",
              "      <td>0</td>\n",
              "      <td>0</td>\n",
              "      <td>0%</td>\n",
              "    </tr>\n",
              "    <tr>\n",
              "      <th>1</th>\n",
              "      <td>Nord</td>\n",
              "      <td>Acul du Nord</td>\n",
              "      <td>6</td>\n",
              "      <td>153</td>\n",
              "      <td>9</td>\n",
              "      <td>152</td>\n",
              "      <td>3</td>\n",
              "      <td>-1</td>\n",
              "      <td>-1%</td>\n",
              "    </tr>\n",
              "    <tr>\n",
              "      <th>2</th>\n",
              "      <td>Nord</td>\n",
              "      <td>Limonade</td>\n",
              "      <td>11</td>\n",
              "      <td>85</td>\n",
              "      <td>5</td>\n",
              "      <td>84</td>\n",
              "      <td>-6</td>\n",
              "      <td>-1</td>\n",
              "      <td>-1%</td>\n",
              "    </tr>\n",
              "    <tr>\n",
              "      <th>3</th>\n",
              "      <td>Nord</td>\n",
              "      <td>Pignon</td>\n",
              "      <td>3</td>\n",
              "      <td>102</td>\n",
              "      <td>6</td>\n",
              "      <td>98</td>\n",
              "      <td>3</td>\n",
              "      <td>-4</td>\n",
              "      <td>-4%</td>\n",
              "    </tr>\n",
              "    <tr>\n",
              "      <th>4</th>\n",
              "      <td>Nord-Est</td>\n",
              "      <td>Terrier-Rouge</td>\n",
              "      <td>8</td>\n",
              "      <td>136</td>\n",
              "      <td>8</td>\n",
              "      <td>136</td>\n",
              "      <td>0</td>\n",
              "      <td>0</td>\n",
              "      <td>0%</td>\n",
              "    </tr>\n",
              "  </tbody>\n",
              "</table>\n",
              "</div>\n",
              "      <button class=\"colab-df-convert\" onclick=\"convertToInteractive('df-2cce6eae-f2e3-401d-9f0e-81f2c7e6c739')\"\n",
              "              title=\"Convert this dataframe to an interactive table.\"\n",
              "              style=\"display:none;\">\n",
              "\n",
              "  <svg xmlns=\"http://www.w3.org/2000/svg\" height=\"24px\"viewBox=\"0 0 24 24\"\n",
              "       width=\"24px\">\n",
              "    <path d=\"M0 0h24v24H0V0z\" fill=\"none\"/>\n",
              "    <path d=\"M18.56 5.44l.94 2.06.94-2.06 2.06-.94-2.06-.94-.94-2.06-.94 2.06-2.06.94zm-11 1L8.5 8.5l.94-2.06 2.06-.94-2.06-.94L8.5 2.5l-.94 2.06-2.06.94zm10 10l.94 2.06.94-2.06 2.06-.94-2.06-.94-.94-2.06-.94 2.06-2.06.94z\"/><path d=\"M17.41 7.96l-1.37-1.37c-.4-.4-.92-.59-1.43-.59-.52 0-1.04.2-1.43.59L10.3 9.45l-7.72 7.72c-.78.78-.78 2.05 0 2.83L4 21.41c.39.39.9.59 1.41.59.51 0 1.02-.2 1.41-.59l7.78-7.78 2.81-2.81c.8-.78.8-2.07 0-2.86zM5.41 20L4 18.59l7.72-7.72 1.47 1.35L5.41 20z\"/>\n",
              "  </svg>\n",
              "      </button>\n",
              "\n",
              "\n",
              "\n",
              "    <div id=\"df-f1b4f67c-3cae-4415-a28a-438366d6a0b2\">\n",
              "      <button class=\"colab-df-quickchart\" onclick=\"quickchart('df-f1b4f67c-3cae-4415-a28a-438366d6a0b2')\"\n",
              "              title=\"Suggest charts.\"\n",
              "              style=\"display:none;\">\n",
              "\n",
              "<svg xmlns=\"http://www.w3.org/2000/svg\" height=\"24px\"viewBox=\"0 0 24 24\"\n",
              "     width=\"24px\">\n",
              "    <g>\n",
              "        <path d=\"M19 3H5c-1.1 0-2 .9-2 2v14c0 1.1.9 2 2 2h14c1.1 0 2-.9 2-2V5c0-1.1-.9-2-2-2zM9 17H7v-7h2v7zm4 0h-2V7h2v10zm4 0h-2v-4h2v4z\"/>\n",
              "    </g>\n",
              "</svg>\n",
              "      </button>\n",
              "    </div>\n",
              "\n",
              "<style>\n",
              "  .colab-df-quickchart {\n",
              "    background-color: #E8F0FE;\n",
              "    border: none;\n",
              "    border-radius: 50%;\n",
              "    cursor: pointer;\n",
              "    display: none;\n",
              "    fill: #1967D2;\n",
              "    height: 32px;\n",
              "    padding: 0 0 0 0;\n",
              "    width: 32px;\n",
              "  }\n",
              "\n",
              "  .colab-df-quickchart:hover {\n",
              "    background-color: #E2EBFA;\n",
              "    box-shadow: 0px 1px 2px rgba(60, 64, 67, 0.3), 0px 1px 3px 1px rgba(60, 64, 67, 0.15);\n",
              "    fill: #174EA6;\n",
              "  }\n",
              "\n",
              "  [theme=dark] .colab-df-quickchart {\n",
              "    background-color: #3B4455;\n",
              "    fill: #D2E3FC;\n",
              "  }\n",
              "\n",
              "  [theme=dark] .colab-df-quickchart:hover {\n",
              "    background-color: #434B5C;\n",
              "    box-shadow: 0px 1px 3px 1px rgba(0, 0, 0, 0.15);\n",
              "    filter: drop-shadow(0px 1px 2px rgba(0, 0, 0, 0.3));\n",
              "    fill: #FFFFFF;\n",
              "  }\n",
              "</style>\n",
              "\n",
              "    <script>\n",
              "      async function quickchart(key) {\n",
              "        const containerElement = document.querySelector('#' + key);\n",
              "        const charts = await google.colab.kernel.invokeFunction(\n",
              "            'suggestCharts', [key], {});\n",
              "      }\n",
              "    </script>\n",
              "\n",
              "      <script>\n",
              "\n",
              "function displayQuickchartButton(domScope) {\n",
              "  let quickchartButtonEl =\n",
              "    domScope.querySelector('#df-f1b4f67c-3cae-4415-a28a-438366d6a0b2 button.colab-df-quickchart');\n",
              "  quickchartButtonEl.style.display =\n",
              "    google.colab.kernel.accessAllowed ? 'block' : 'none';\n",
              "}\n",
              "\n",
              "        displayQuickchartButton(document);\n",
              "      </script>\n",
              "      <style>\n",
              "    .colab-df-container {\n",
              "      display:flex;\n",
              "      flex-wrap:wrap;\n",
              "      gap: 12px;\n",
              "    }\n",
              "\n",
              "    .colab-df-convert {\n",
              "      background-color: #E8F0FE;\n",
              "      border: none;\n",
              "      border-radius: 50%;\n",
              "      cursor: pointer;\n",
              "      display: none;\n",
              "      fill: #1967D2;\n",
              "      height: 32px;\n",
              "      padding: 0 0 0 0;\n",
              "      width: 32px;\n",
              "    }\n",
              "\n",
              "    .colab-df-convert:hover {\n",
              "      background-color: #E2EBFA;\n",
              "      box-shadow: 0px 1px 2px rgba(60, 64, 67, 0.3), 0px 1px 3px 1px rgba(60, 64, 67, 0.15);\n",
              "      fill: #174EA6;\n",
              "    }\n",
              "\n",
              "    [theme=dark] .colab-df-convert {\n",
              "      background-color: #3B4455;\n",
              "      fill: #D2E3FC;\n",
              "    }\n",
              "\n",
              "    [theme=dark] .colab-df-convert:hover {\n",
              "      background-color: #434B5C;\n",
              "      box-shadow: 0px 1px 3px 1px rgba(0, 0, 0, 0.15);\n",
              "      filter: drop-shadow(0px 1px 2px rgba(0, 0, 0, 0.3));\n",
              "      fill: #FFFFFF;\n",
              "    }\n",
              "  </style>\n",
              "\n",
              "      <script>\n",
              "        const buttonEl =\n",
              "          document.querySelector('#df-2cce6eae-f2e3-401d-9f0e-81f2c7e6c739 button.colab-df-convert');\n",
              "        buttonEl.style.display =\n",
              "          google.colab.kernel.accessAllowed ? 'block' : 'none';\n",
              "\n",
              "        async function convertToInteractive(key) {\n",
              "          const element = document.querySelector('#df-2cce6eae-f2e3-401d-9f0e-81f2c7e6c739');\n",
              "          const dataTable =\n",
              "            await google.colab.kernel.invokeFunction('convertToInteractive',\n",
              "                                                     [key], {});\n",
              "          if (!dataTable) return;\n",
              "\n",
              "          const docLinkHtml = 'Like what you see? Visit the ' +\n",
              "            '<a target=\"_blank\" href=https://colab.research.google.com/notebooks/data_table.ipynb>data table notebook</a>'\n",
              "            + ' to learn more about interactive tables.';\n",
              "          element.innerHTML = '';\n",
              "          dataTable['output_type'] = 'display_data';\n",
              "          await google.colab.output.renderOutput(dataTable, element);\n",
              "          const docLink = document.createElement('div');\n",
              "          docLink.innerHTML = docLinkHtml;\n",
              "          element.appendChild(docLink);\n",
              "        }\n",
              "      </script>\n",
              "    </div>\n",
              "  </div>\n"
            ]
          },
          "metadata": {},
          "execution_count": 38
        }
      ]
    },
    {
      "cell_type": "code",
      "source": [
        "# load the expected # of houselds per commune\n",
        "x = df['Total # household interviews expected']"
      ],
      "metadata": {
        "id": "LjyUSbKZy5Ju"
      },
      "execution_count": null,
      "outputs": []
    },
    {
      "cell_type": "code",
      "source": [
        "# load the achieved # of houselds per commune\n",
        "y = df['Total # household interviews Achieved']"
      ],
      "metadata": {
        "id": "ySgVyciTzHHK"
      },
      "execution_count": null,
      "outputs": []
    },
    {
      "cell_type": "code",
      "source": [
        "# perform a ttest since we have less than 30 data entries, in this case 16 communes\n",
        "ttest(x, y)"
      ],
      "metadata": {
        "colab": {
          "base_uri": "https://localhost:8080/"
        },
        "id": "EliEFHR6zLHW",
        "outputId": "bde58a9b-a748-4f16-895b-edd047539357"
      },
      "execution_count": null,
      "outputs": [
        {
          "output_type": "execute_result",
          "data": {
            "text/plain": [
              "(0.05342808399947886, 0.9577450345436508, 30.0)"
            ]
          },
          "metadata": {},
          "execution_count": 41
        }
      ]
    },
    {
      "cell_type": "code",
      "source": [
        "#help(ttest)"
      ],
      "metadata": {
        "id": "c_5s62qFzQ05"
      },
      "execution_count": null,
      "outputs": []
    },
    {
      "cell_type": "code",
      "source": [
        "# perform a non necessary ztest to confirm results of the t-test.\n",
        "ztest(x, y, value=0)"
      ],
      "metadata": {
        "colab": {
          "base_uri": "https://localhost:8080/"
        },
        "id": "aAS3NPA-zZjm",
        "outputId": "ef2d69d7-091d-4a8b-d65a-ddbe1f51a2eb"
      },
      "execution_count": null,
      "outputs": [
        {
          "output_type": "execute_result",
          "data": {
            "text/plain": [
              "(0.05342808399947886, 0.9573908293674199)"
            ]
          },
          "metadata": {},
          "execution_count": 43
        }
      ]
    },
    {
      "cell_type": "markdown",
      "source": [
        "We derive from the result of the t-test that the p-value of the test is 0.958, which is greater than 0.05. Therefore, we do have sufficient evidence to retain the null hypothesis.\n",
        "\n",
        "In conclusion, there is no evident support for the necessity of data weighting."
      ],
      "metadata": {
        "id": "u8Xetm8j6Vud"
      }
    }
  ]
}